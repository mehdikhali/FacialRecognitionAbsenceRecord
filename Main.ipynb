{
 "cells": [
  {
   "cell_type": "code",
   "execution_count": 1,
   "id": "ec481e8a",
   "metadata": {},
   "outputs": [],
   "source": [
    "import face_recognition\n",
    "import cv2\n",
    "import os\n",
    "import glob\n",
    "import numpy as np"
   ]
  },
  {
   "cell_type": "code",
   "execution_count": 2,
   "id": "588174e4",
   "metadata": {},
   "outputs": [],
   "source": [
    "#CONSTANTES\n",
    "IMAGES_CONNUES_DOSSIER = \"image_connues\"\n",
    "images_connues =[]\n",
    "noms_connus =[]\n",
    "colorframe=(150,127,80)\n",
    "colorwriting=(0,102,0)\n",
    "frame_resizing=0.25\n",
    "Model='cnn'\n",
    "#loading the Haar cascade classifier\n",
    "face_cascade= cv2.CascadeClassifier('C:/Users/h/anaconda3/pkgs/libopencv-4.5.3-py37h0996282_5/Library/etc/haarcascades/haarcascade_frontalface_default.xml')\n",
    "Liste_des_éleves=[nom.split('.')[0] for nom in os.listdir(f\"{IMAGES_CONNUES_DOSSIER}\")]\n",
    "liste_présents=set()\n",
    "liste_absents=[]"
   ]
  },
  {
   "cell_type": "code",
   "execution_count": 3,
   "id": "005fb622",
   "metadata": {},
   "outputs": [],
   "source": [
    "#loading images and names\n",
    "for nom in os.listdir(f\"{IMAGES_CONNUES_DOSSIER}\"):\n",
    "        image= face_recognition.load_image_file(f\"{IMAGES_CONNUES_DOSSIER}/{nom}\")\n",
    "        encoding = face_recognition.face_encodings(image)[0]\n",
    "        images_connues.append(encoding)\n",
    "        noms_connus.append(nom.split(\".\")[0])"
   ]
  },
  {
   "cell_type": "code",
   "execution_count": 4,
   "id": "622f543a",
   "metadata": {},
   "outputs": [],
   "source": [
    "#loading the camera\n",
    "cap = cv2.VideoCapture(0)\n",
    "while True: \n",
    "    ret, frame = cap.read()\n",
    "    image= cv2.cvtColor(frame, cv2.COLOR_BGR2RGB)\n",
    "    face_locations= faces= face_cascade.detectMultiScale(image, scaleFactor=1.5, minNeighbors=5)\n",
    "    face_encodings = face_recognition.face_encodings(image)\n",
    "    face_name=[]\n",
    "    for face_encoding in face_encodings:\n",
    "        matches= face_recognition.compare_faces(images_connues,face_encoding)\n",
    "        name='unknown'\n",
    "        if True in matches:\n",
    "            first_match_index=matches.index(True)\n",
    "            name=noms_connus[first_match_index]\n",
    "            face_name.append(name)\n",
    "            liste_présents.add(name)\n",
    "    for facelocation,name in zip(face_locations, face_name):\n",
    "        x,y = facelocation[0], facelocation[1]\n",
    "        w,h= x+facelocation[2],y+facelocation[3]\n",
    "        cv2.putText(frame,name,(x-10,y-10),cv2.FONT_HERSHEY_DUPLEX,1,colorwriting)\n",
    "        cv2.rectangle(frame,(x,y),(w,h),colorframe,4)\n",
    "    cv2.imshow(\"frame\", frame)\n",
    "    key = cv2.waitKey(1)\n",
    "    if key == ord('q') or key == 27:\n",
    "        break\n",
    "cap.release()\n",
    "cv2.destroyAllWindows()\n",
    "    "
   ]
  },
  {
   "cell_type": "code",
   "execution_count": 5,
   "id": "f0ae2176",
   "metadata": {},
   "outputs": [
    {
     "name": "stdout",
     "output_type": "stream",
     "text": [
      "la liste des présent est :  {'Mehdi Khali'}\n",
      "la liste des absents est :  ['Cristiano Ronaldo', 'Leonel Messi', 'Paolo Dybala']\n"
     ]
    }
   ],
   "source": [
    "liste_absents=Liste_des_éleves\n",
    "for name in liste_présents:\n",
    "    liste_absents.remove(f'{name}')\n",
    "print('la liste des présent est : ', liste_présents)\n",
    "print('la liste des absents est : ', liste_absents)"
   ]
  }
 ],
 "metadata": {
  "kernelspec": {
   "display_name": "Python 3 (ipykernel)",
   "language": "python",
   "name": "python3"
  },
  "language_info": {
   "codemirror_mode": {
    "name": "ipython",
    "version": 3
   },
   "file_extension": ".py",
   "mimetype": "text/x-python",
   "name": "python",
   "nbconvert_exporter": "python",
   "pygments_lexer": "ipython3",
   "version": "3.7.11"
  }
 },
 "nbformat": 4,
 "nbformat_minor": 5
}
